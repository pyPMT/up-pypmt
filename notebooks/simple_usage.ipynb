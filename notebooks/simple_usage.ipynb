{
 "cells": [
  {
   "cell_type": "code",
   "execution_count": null,
   "metadata": {},
   "outputs": [],
   "source": [
    "# Start with importing UP modules\n",
    "import unified_planning.shortcuts as up_shortcuts\n",
    "from unified_planning.shortcuts import CompilationKind\n",
    "import unified_planning.engines.results as up_results\n",
    "import unified_planning.io as up_io\n",
    "import unified_planning.plans as up_plans\n",
    "\n",
    "# Import up-pyPMT module\n",
    "import up_pypmt"
   ]
  },
  {
   "cell_type": "code",
   "execution_count": null,
   "metadata": {
    "vscode": {
     "languageId": "python"
    }
   },
   "outputs": [],
   "source": [
    "# Get current working directory\n",
    "import os\n",
    "problem_dir = os.path.join(os.path.dirname(os.path.realpath(__file__)))"
   ]
  },
  {
   "cell_type": "code",
   "execution_count": null,
   "metadata": {},
   "outputs": [],
   "source": [
    "# Configure a linear encoder smt-planner.\n",
    "\n",
    "up_planner_params = {\n",
    "    \"encoder\": \"EncoderSequentialSMT\",\n",
    "    \"upper-bound\": 1000,\n",
    "    \"search-strategy\": \"SMTSearch\",\n",
    "    \"configuration\": \"seq\",\n",
    "    \"run-validation\": False,\n",
    "    \"compilationlist\": [('up_grounder', CompilationKind.GROUNDING)]\n",
    "}"
   ]
  },
  {
   "cell_type": "code",
   "execution_count": null,
   "metadata": {},
   "outputs": [],
   "source": [
    "# Load the task\n",
    "domain = os.path.join(problem_dir, 'rover-problem', 'domain.pddl')\n",
    "problem = os.path.join(problem_dir, 'rover-problem', 'problem.pddl')\n",
    "\n",
    "task = up_io.PDDLReader().parse_problem(domain, problem)\n",
    "\n",
    "# Run the planner\n",
    "with up_shortcuts.OneshotPlanner(name='SMTPlanner',  params=up_planner_params) as planner:\n",
    "    result = planner.solve(task)\n",
    "    plan = result.plan if result.status in up_results.POSITIVE_OUTCOMES else up_plans.SequentialPlan([], task.environment)\n"
   ]
  }
 ],
 "metadata": {
  "kernelspec": {
   "display_name": "Julia 1.9.0",
   "language": "julia",
   "name": "julia-1.9"
  },
  "language_info": {
   "file_extension": ".jl",
   "mimetype": "application/julia",
   "name": "julia",
   "version": "1.9.0"
  }
 },
 "nbformat": 4,
 "nbformat_minor": 2
}
